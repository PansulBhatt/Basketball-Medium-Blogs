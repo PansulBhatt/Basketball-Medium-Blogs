{
 "cells": [
  {
   "cell_type": "code",
   "execution_count": 2,
   "metadata": {},
   "outputs": [],
   "source": [
    "import os\n",
    "import re\n",
    "import tweepy\n",
    "import pandas as pd\n",
    "import numpy as np\n",
    "from tweepy import OAuthHandler\n",
    "from textblob import TextBlob"
   ]
  },
  {
   "cell_type": "code",
   "execution_count": 3,
   "metadata": {},
   "outputs": [],
   "source": [
    "auth = tweepy.OAuthHandler(os.environ['CONSUMER_KEY'], os.environ['CONSUMER_SECRET_KEY'])\n",
    "auth.set_access_token(os.environ['ACCESS_TOKEN'], os.environ['ACCESS_SECRET_TOKEN'])"
   ]
  },
  {
   "cell_type": "code",
   "execution_count": 4,
   "metadata": {},
   "outputs": [],
   "source": [
    "api = tweepy.API(auth, wait_on_rate_limit=True)"
   ]
  },
  {
   "cell_type": "code",
   "execution_count": 5,
   "metadata": {},
   "outputs": [],
   "source": [
    "def get_label(sentiment, threshold = 0):\n",
    "    \"\"\"\n",
    "    Labelization of the parameters for analysis\n",
    "    \"\"\"\n",
    "    return 'Positive' if sentiment > threshold else 'Negative' if sentiment !=0 else 'Neutral'\n"
   ]
  },
  {
   "cell_type": "code",
   "execution_count": 6,
   "metadata": {},
   "outputs": [
    {
     "name": "stdout",
     "output_type": "stream",
     "text": [
      "[20, 15]\n"
     ]
    }
   ],
   "source": [
    "# Ineffecient Way of getting the data due to the twitter rate limit\n",
    "public_tweets = {}\n",
    "public_tweets['kobe24'] = api.search('Kobe Bryant', count=20)\n",
    "public_tweets['lebron23'] = api.search('Lebron James', count=20)\n",
    "print([len(items) for i, items in public_tweets.items()])\n"
   ]
  },
  {
   "cell_type": "code",
   "execution_count": 7,
   "metadata": {},
   "outputs": [
    {
     "name": "stdout",
     "output_type": "stream",
     "text": [
      "<tweepy.cursor.ItemIterator object at 0x0000020F2BE945C0>\n"
     ]
    }
   ],
   "source": [
    "# Correct way of getting as much data as we need\n",
    "public_tweets = {}\n",
    "public_tweets['kobe24'] = tweepy.Cursor(api.search,\\\n",
    "                                        q=\"Kobe Bryant\",\\\n",
    "                                        lang='en').items(5000)\n",
    "public_tweets['lebron23'] = tweepy.Cursor(api.search,\\\n",
    "                                          q=\"Lebron James\",\\\n",
    "                                          lang='en').items(5000)\n",
    "print(public_tweets['kobe24'])\n"
   ]
  },
  {
   "cell_type": "code",
   "execution_count": 8,
   "metadata": {},
   "outputs": [],
   "source": [
    "df = pd.DataFrame(columns=['name', 'text', 'analysis', 'analysis_score'])"
   ]
  },
  {
   "cell_type": "code",
   "execution_count": 9,
   "metadata": {},
   "outputs": [],
   "source": [
    "for id, tweets in public_tweets.items():\n",
    "    for tweet in tweets:\n",
    "        analysis = TextBlob(tweet.text)\n",
    "        df = df.append({\n",
    "            'name': id,\n",
    "            'text': tweet.text,\n",
    "        }, ignore_index=True)\n",
    "        "
   ]
  },
  {
   "cell_type": "code",
   "execution_count": 10,
   "metadata": {},
   "outputs": [
    {
     "data": {
      "text/plain": [
       "(10000, 4)"
      ]
     },
     "execution_count": 10,
     "metadata": {},
     "output_type": "execute_result"
    }
   ],
   "source": [
    "df.shape"
   ]
  },
  {
   "cell_type": "code",
   "execution_count": 11,
   "metadata": {},
   "outputs": [
    {
     "data": {
      "text/html": [
       "<div>\n",
       "<style scoped>\n",
       "    .dataframe tbody tr th:only-of-type {\n",
       "        vertical-align: middle;\n",
       "    }\n",
       "\n",
       "    .dataframe tbody tr th {\n",
       "        vertical-align: top;\n",
       "    }\n",
       "\n",
       "    .dataframe thead th {\n",
       "        text-align: right;\n",
       "    }\n",
       "</style>\n",
       "<table border=\"1\" class=\"dataframe\">\n",
       "  <thead>\n",
       "    <tr style=\"text-align: right;\">\n",
       "      <th></th>\n",
       "      <th>name</th>\n",
       "      <th>text</th>\n",
       "      <th>analysis</th>\n",
       "      <th>analysis_score</th>\n",
       "    </tr>\n",
       "  </thead>\n",
       "  <tbody>\n",
       "    <tr>\n",
       "      <th>9995</th>\n",
       "      <td>lebron23</td>\n",
       "      <td>RT @billoram: “Shit don’t fit right.” Maybe the uniform felt a little snug after a month off, but LeBron James clicked right back into plac…</td>\n",
       "      <td>NaN</td>\n",
       "      <td>NaN</td>\n",
       "    </tr>\n",
       "    <tr>\n",
       "      <th>9996</th>\n",
       "      <td>lebron23</td>\n",
       "      <td>RT @SLAMonline: His greatness has become the definition of what a love for the game should look like. 👑\\n\\nLeBron James covers SLAM 220: http…</td>\n",
       "      <td>NaN</td>\n",
       "      <td>NaN</td>\n",
       "    </tr>\n",
       "    <tr>\n",
       "      <th>9997</th>\n",
       "      <td>lebron23</td>\n",
       "      <td>RT @TheSteinLine: NAMED special roster additions ... there will now be 13 players on each of the squads picked by captains LeBron James and…</td>\n",
       "      <td>NaN</td>\n",
       "      <td>NaN</td>\n",
       "    </tr>\n",
       "    <tr>\n",
       "      <th>9998</th>\n",
       "      <td>lebron23</td>\n",
       "      <td>RT @asvpxflyy: Attention basketball world. Lebron James is better than Kobe Bryant and Mj... Tell me how without mentioning Rings</td>\n",
       "      <td>NaN</td>\n",
       "      <td>NaN</td>\n",
       "    </tr>\n",
       "    <tr>\n",
       "      <th>9999</th>\n",
       "      <td>lebron23</td>\n",
       "      <td>RT @Suns: 24.8 points | 6.7 assists | 3.6 rebounds\\n\\n@DevinBook joins James Harden and LeBron James as ONLY players in the league averaging…</td>\n",
       "      <td>NaN</td>\n",
       "      <td>NaN</td>\n",
       "    </tr>\n",
       "  </tbody>\n",
       "</table>\n",
       "</div>"
      ],
      "text/plain": [
       "          name  \\\n",
       "9995  lebron23   \n",
       "9996  lebron23   \n",
       "9997  lebron23   \n",
       "9998  lebron23   \n",
       "9999  lebron23   \n",
       "\n",
       "                                                                                                                                                text  \\\n",
       "9995  RT @billoram: “Shit don’t fit right.” Maybe the uniform felt a little snug after a month off, but LeBron James clicked right back into plac…     \n",
       "9996  RT @SLAMonline: His greatness has become the definition of what a love for the game should look like. 👑\\n\\nLeBron James covers SLAM 220: http…   \n",
       "9997  RT @TheSteinLine: NAMED special roster additions ... there will now be 13 players on each of the squads picked by captains LeBron James and…     \n",
       "9998  RT @asvpxflyy: Attention basketball world. Lebron James is better than Kobe Bryant and Mj... Tell me how without mentioning Rings                \n",
       "9999  RT @Suns: 24.8 points | 6.7 assists | 3.6 rebounds\\n\\n@DevinBook joins James Harden and LeBron James as ONLY players in the league averaging…    \n",
       "\n",
       "     analysis analysis_score  \n",
       "9995  NaN      NaN            \n",
       "9996  NaN      NaN            \n",
       "9997  NaN      NaN            \n",
       "9998  NaN      NaN            \n",
       "9999  NaN      NaN            "
      ]
     },
     "execution_count": 11,
     "metadata": {},
     "output_type": "execute_result"
    }
   ],
   "source": [
    "pd.set_option('display.max_colwidth', -1)\n",
    "df.tail()"
   ]
  },
  {
   "cell_type": "code",
   "execution_count": 12,
   "metadata": {},
   "outputs": [],
   "source": [
    "from bs4 import BeautifulSoup\n",
    "import re"
   ]
  },
  {
   "cell_type": "code",
   "execution_count": 13,
   "metadata": {},
   "outputs": [],
   "source": [
    "df['text'] = df['text'].apply(lambda x: BeautifulSoup(x, 'lxml').get_text())\n",
    "df['text'] = df['text'].apply(lambda x: ' '.join(re.sub(\"(@[A-Za-z0-9]+)|([^0-9A-Za-z \\t])|(\\w+:\\/\\/\\S+)\", \" \", x).split()))"
   ]
  },
  {
   "cell_type": "code",
   "execution_count": 14,
   "metadata": {},
   "outputs": [],
   "source": [
    "df.drop_duplicates(subset = \"text\", keep = False, inplace = True)"
   ]
  },
  {
   "cell_type": "code",
   "execution_count": 15,
   "metadata": {},
   "outputs": [],
   "source": [
    "def sentiment_analysis(tweet):\n",
    "    analysis = TextBlob(tweet)\n",
    "    return analysis.sentiment[0]\n",
    "df['analysis_score'] = df['text'].apply(sentiment_analysis)\n",
    "df['analysis'] = df['analysis_score'].apply(get_label)"
   ]
  },
  {
   "cell_type": "code",
   "execution_count": 16,
   "metadata": {},
   "outputs": [],
   "source": [
    "def vectorized_get_label(sentiment, threshold = 0.0):\n",
    "    \"\"\"\n",
    "    Labelization of the parameters for analysis using vectorization\n",
    "    \"\"\"\n",
    "    return np.where((sentiment) < threshold, 'Positive', 'Negative')\n"
   ]
  },
  {
   "cell_type": "code",
   "execution_count": 17,
   "metadata": {},
   "outputs": [],
   "source": [
    "df['analysis'] = vectorized_get_label(df['analysis_score'])"
   ]
  },
  {
   "cell_type": "code",
   "execution_count": 18,
   "metadata": {},
   "outputs": [
    {
     "data": {
      "text/html": [
       "<div>\n",
       "<style scoped>\n",
       "    .dataframe tbody tr th:only-of-type {\n",
       "        vertical-align: middle;\n",
       "    }\n",
       "\n",
       "    .dataframe tbody tr th {\n",
       "        vertical-align: top;\n",
       "    }\n",
       "\n",
       "    .dataframe thead th {\n",
       "        text-align: right;\n",
       "    }\n",
       "</style>\n",
       "<table border=\"1\" class=\"dataframe\">\n",
       "  <thead>\n",
       "    <tr style=\"text-align: right;\">\n",
       "      <th></th>\n",
       "      <th>name</th>\n",
       "      <th>text</th>\n",
       "      <th>analysis</th>\n",
       "      <th>analysis_score</th>\n",
       "    </tr>\n",
       "  </thead>\n",
       "  <tbody>\n",
       "    <tr>\n",
       "      <th>5</th>\n",
       "      <td>kobe24</td>\n",
       "      <td>Kyrie s mentor KOBE BRYANT Who s team would be love to join to emulate his hero THE LOS ANGELES LAKERS</td>\n",
       "      <td>Negative</td>\n",
       "      <td>0.500000</td>\n",
       "    </tr>\n",
       "    <tr>\n",
       "      <th>7</th>\n",
       "      <td>kobe24</td>\n",
       "      <td>Even Charlotte traded Kobe Bryant</td>\n",
       "      <td>Negative</td>\n",
       "      <td>0.000000</td>\n",
       "    </tr>\n",
       "    <tr>\n",
       "      <th>14</th>\n",
       "      <td>kobe24</td>\n",
       "      <td>10 years ago today Kobe Bryant of the Los Angeles Lakers scored 61 points in a 126 117 win over the New York Kni</td>\n",
       "      <td>Negative</td>\n",
       "      <td>0.468182</td>\n",
       "    </tr>\n",
       "    <tr>\n",
       "      <th>24</th>\n",
       "      <td>kobe24</td>\n",
       "      <td>vs the Lakers signing Kobe Bryant to a Max even after the injury</td>\n",
       "      <td>Negative</td>\n",
       "      <td>0.000000</td>\n",
       "    </tr>\n",
       "    <tr>\n",
       "      <th>32</th>\n",
       "      <td>kobe24</td>\n",
       "      <td>Kobe Bryant s All Game Winners of his Career 36 via Cheer up</td>\n",
       "      <td>Positive</td>\n",
       "      <td>-0.400000</td>\n",
       "    </tr>\n",
       "  </tbody>\n",
       "</table>\n",
       "</div>"
      ],
      "text/plain": [
       "      name  \\\n",
       "5   kobe24   \n",
       "7   kobe24   \n",
       "14  kobe24   \n",
       "24  kobe24   \n",
       "32  kobe24   \n",
       "\n",
       "                                                                                                                text  \\\n",
       "5   Kyrie s mentor KOBE BRYANT Who s team would be love to join to emulate his hero THE LOS ANGELES LAKERS             \n",
       "7   Even Charlotte traded Kobe Bryant                                                                                  \n",
       "14  10 years ago today Kobe Bryant of the Los Angeles Lakers scored 61 points in a 126 117 win over the New York Kni   \n",
       "24  vs the Lakers signing Kobe Bryant to a Max even after the injury                                                   \n",
       "32  Kobe Bryant s All Game Winners of his Career 36 via Cheer up                                                       \n",
       "\n",
       "    analysis  analysis_score  \n",
       "5   Negative  0.500000        \n",
       "7   Negative  0.000000        \n",
       "14  Negative  0.468182        \n",
       "24  Negative  0.000000        \n",
       "32  Positive -0.400000        "
      ]
     },
     "execution_count": 18,
     "metadata": {},
     "output_type": "execute_result"
    }
   ],
   "source": [
    "df.head()"
   ]
  },
  {
   "cell_type": "code",
   "execution_count": 19,
   "metadata": {},
   "outputs": [
    {
     "data": {
      "text/html": [
       "<div>\n",
       "<style scoped>\n",
       "    .dataframe tbody tr th:only-of-type {\n",
       "        vertical-align: middle;\n",
       "    }\n",
       "\n",
       "    .dataframe tbody tr th {\n",
       "        vertical-align: top;\n",
       "    }\n",
       "\n",
       "    .dataframe thead th {\n",
       "        text-align: right;\n",
       "    }\n",
       "</style>\n",
       "<table border=\"1\" class=\"dataframe\">\n",
       "  <thead>\n",
       "    <tr style=\"text-align: right;\">\n",
       "      <th></th>\n",
       "      <th>analysis_score</th>\n",
       "    </tr>\n",
       "    <tr>\n",
       "      <th>name</th>\n",
       "      <th></th>\n",
       "    </tr>\n",
       "  </thead>\n",
       "  <tbody>\n",
       "    <tr>\n",
       "      <th>kobe24</th>\n",
       "      <td>0.147418</td>\n",
       "    </tr>\n",
       "    <tr>\n",
       "      <th>lebron23</th>\n",
       "      <td>0.105766</td>\n",
       "    </tr>\n",
       "  </tbody>\n",
       "</table>\n",
       "</div>"
      ],
      "text/plain": [
       "          analysis_score\n",
       "name                    \n",
       "kobe24    0.147418      \n",
       "lebron23  0.105766      "
      ]
     },
     "execution_count": 19,
     "metadata": {},
     "output_type": "execute_result"
    }
   ],
   "source": [
    "# Calculating the mean\n",
    "df.groupby(['name']).mean()"
   ]
  },
  {
   "cell_type": "code",
   "execution_count": null,
   "metadata": {},
   "outputs": [],
   "source": []
  }
 ],
 "metadata": {
  "kernelspec": {
   "display_name": "Python 3",
   "language": "python",
   "name": "python3"
  },
  "language_info": {
   "codemirror_mode": {
    "name": "ipython",
    "version": 3
   },
   "file_extension": ".py",
   "mimetype": "text/x-python",
   "name": "python",
   "nbconvert_exporter": "python",
   "pygments_lexer": "ipython3",
   "version": "3.7.1"
  }
 },
 "nbformat": 4,
 "nbformat_minor": 2
}
